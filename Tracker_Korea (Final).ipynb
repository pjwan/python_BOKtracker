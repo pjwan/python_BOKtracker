{
 "cells": [
  {
   "cell_type": "markdown",
   "metadata": {},
   "source": [
    "# Final Code"
   ]
  },
  {
   "cell_type": "code",
   "execution_count": 3,
   "metadata": {},
   "outputs": [],
   "source": [
    "from bs4 import BeautifulSoup\n",
    "import requests\n",
    "import urllib.parse as urlparser\n",
    "import pandas as pd\n",
    "import numpy as np\n",
    "import time\n",
    "import os\n",
    "\n",
    "def Tracker_Korea(list_k):\n",
    "    # create blank dataframe\n",
    "    column_names = ['Date','Policy Summary', 'URL', 'Detail']\n",
    "    df_k=pd.DataFrame(columns = column_names)\n",
    "    # Get URL of each page\n",
    "    for pageindex in list_k:\n",
    "            url = f'https://www.bok.or.kr/eng/bbs/B0000308/list.do?menuNo=400380&pageIndex={pageindex}'\n",
    "            response_k = requests.get(url)\n",
    "            if response_k.status_code != 200:\n",
    "                print(\"Failure to Load\")\n",
    "            # Web Scraping\n",
    "            dom_k = BeautifulSoup(response_k.text, \"html.parser\")\n",
    "            elements_k = dom_k.select(\".bdLine .row .secretSet\")\n",
    "            elements_k2 = dom_k.select('.bdLine .row .date')\n",
    "                    #WebScraping + ListComprehension: [Policy Summary, URL, Detail] & [Date]\n",
    "            result_k=[\n",
    "                {\n",
    "                    'Policy Summary': element.text.strip(),\n",
    "                    'URL': 'https://www.bok.or.kr/eng/bbs/B0000308'+element.attrs['href'].strip().split('.')[1]+'.'+element.attrs['href'].strip().split('.')[2],\n",
    "                    'Detail': ''\n",
    "                }\n",
    "                        for element in elements_k \n",
    "            ]\n",
    "\n",
    "            result_k2=[\n",
    "                {\n",
    "                    \"Date\": element.text.strip().replace(\"date\",\"\")\n",
    "                }\n",
    "                for element in elements_k2\n",
    "            ]\n",
    "\n",
    "            df1_k = pd.DataFrame(result_k)\n",
    "            df2_k = pd.DataFrame(result_k2)\n",
    "            df_3 = pd.concat([df2_k, df1_k], axis=1, join='inner')\n",
    "            df_k = df_k.append(df_3)\n",
    "\n",
    "            now=time.strftime('%Y%m%d%H%M%S')\n",
    "            filepath = os.path.join( os.getcwd(), f'Tracker_KOREA{now}.xlsx' )\n",
    "            df_k.to_excel(filepath, sheet_name='Korea_MP', index=False)       \n"
   ]
  },
  {
   "cell_type": "code",
   "execution_count": 4,
   "metadata": {},
   "outputs": [],
   "source": [
    "# # Executre the Fucntion with pagenumbers in list form\n",
    "Tracker_Korea([1,2])"
   ]
  },
  {
   "cell_type": "markdown",
   "metadata": {},
   "source": [
    "# Coding Process"
   ]
  },
  {
   "cell_type": "code",
   "execution_count": null,
   "metadata": {},
   "outputs": [],
   "source": [
    "# import modules\n",
    "from bs4 import BeautifulSoup\n",
    "import requests\n",
    "import urllib.parse as urlparser\n",
    "import pandas as pd\n",
    "import numpy as np\n",
    "import time\n",
    "import os"
   ]
  },
  {
   "cell_type": "code",
   "execution_count": 57,
   "metadata": {},
   "outputs": [],
   "source": [
    "# URL\n",
    "pageindex = 2\n",
    "for pageindex in list_k:\n",
    "            url = f'https://www.bok.or.kr/eng/bbs/B0000308/list.do?menuNo=400380&pageIndex={pageindex}'\n",
    "            response_k = requests.get(url)"
   ]
  },
  {
   "cell_type": "code",
   "execution_count": 58,
   "metadata": {},
   "outputs": [],
   "source": [
    "# HRML Parsing\n",
    "response_k = requests.get(url)\n",
    "response_k.status_code\n",
    "dom_k = BeautifulSoup(response_k.text, \"html.parser\")"
   ]
  },
  {
   "cell_type": "code",
   "execution_count": 59,
   "metadata": {},
   "outputs": [],
   "source": [
    "# crawling the element\n",
    "#1 Policy & URL\n",
    "elements_k = dom_k.select(\".bdLine .row .secretSet\")\n",
    "#2 Date\n",
    "elements_k2 = dom_k.select('.bdLine .row .date')"
   ]
  },
  {
   "cell_type": "code",
   "execution_count": 72,
   "metadata": {},
   "outputs": [
    {
     "name": "stdout",
     "output_type": "stream",
     "text": [
      "★ Monetary Policy Decision(May 28, 2020)\n",
      "BOK to provide additional financial support of 5 trillion won to SMEs affected by COVID-19\n",
      "BOK to Launch Corporate Bond-Backed Lending Facility\n",
      "Bank of Korea Broadens Securities Eligible for Open Market Operations\n",
      "★ Monetary Policy Decision(Apr 9, 2020)\n",
      "Results of competitive US dollar loan facility auctions using the proceeds of swap transaction with the US Federal Reserve\n",
      "Bank of Korea to Expand Financial Institutions' Collateral Capacity by 10.1 trillion won\n",
      "Bank of Korea to Provide US dollar Funding using the Proceeds of Swap Transactions with US Federal Reserve\n",
      "Bank of Korea Implements Financial Stability Measures Including Adoption of Unlimited Liquidity Support Facility\n",
      "Ease of FX Market Stability Rules\n"
     ]
    }
   ],
   "source": [
    "# policy summary\n",
    "for element in elements_k:\n",
    "    sum_k = element.text.strip()\n",
    "    print(sum_k)"
   ]
  },
  {
   "cell_type": "code",
   "execution_count": 73,
   "metadata": {},
   "outputs": [
    {
     "name": "stdout",
     "output_type": "stream",
     "text": [
      "https://www.bok.or.kr/eng/bbs/B0000308/view.do?nttId=10058439&menuNo=400380&pageIndex=1\n",
      "https://www.bok.or.kr/eng/bbs/B0000308/view.do?nttId=10058185&menuNo=400380&pageIndex=1\n",
      "https://www.bok.or.kr/eng/bbs/B0000308/view.do?nttId=10057757&menuNo=400380&pageIndex=1\n",
      "https://www.bok.or.kr/eng/bbs/B0000308/view.do?nttId=10057612&menuNo=400380&pageIndex=1\n",
      "https://www.bok.or.kr/eng/bbs/B0000308/view.do?nttId=10057560&menuNo=400380&pageIndex=1\n",
      "https://www.bok.or.kr/eng/bbs/B0000308/view.do?nttId=10057419&menuNo=400380&pageIndex=1\n",
      "https://www.bok.or.kr/eng/bbs/B0000308/view.do?nttId=10057675&menuNo=400380&pageIndex=1\n",
      "https://www.bok.or.kr/eng/bbs/B0000308/view.do?nttId=10057320&menuNo=400380&pageIndex=1\n",
      "https://www.bok.or.kr/eng/bbs/B0000308/view.do?nttId=10057418&menuNo=400380&pageIndex=1\n",
      "https://www.bok.or.kr/eng/bbs/B0000308/view.do?nttId=10057321&menuNo=400380&pageIndex=1\n"
     ]
    }
   ],
   "source": [
    "# url\n",
    "for element in elements_k:\n",
    "    a = element.attrs['href'].strip().split('.')\n",
    "    url_k = 'https://www.bok.or.kr/eng/bbs/B0000308' + a[1]+'.'+ a[2]\n",
    "    print(url_k)"
   ]
  },
  {
   "cell_type": "code",
   "execution_count": 74,
   "metadata": {},
   "outputs": [
    {
     "name": "stdout",
     "output_type": "stream",
     "text": [
      "2020.05.28\n",
      "2020.05.14\n",
      "2020.04.16\n",
      "2020.04.10\n",
      "2020.04.09\n",
      "2020.04.01\n",
      "2020.04.01\n",
      "2020.03.29\n",
      "2020.03.26\n",
      "2020.03.26\n"
     ]
    },
    {
     "data": {
      "text/plain": [
       "10"
      ]
     },
     "execution_count": 74,
     "metadata": {},
     "output_type": "execute_result"
    }
   ],
   "source": [
    "# Date\n",
    "for element in elements_k2:\n",
    "    print(element.text.strip().replace(\"date\",\"\"))\n",
    "len(element.text.strip().replace(\"date\",\"\"))"
   ]
  },
  {
   "cell_type": "code",
   "execution_count": 75,
   "metadata": {},
   "outputs": [
    {
     "data": {
      "text/plain": [
       "[{'Policy Summary': '★ Monetary Policy Decision(May 28, 2020)',\n",
       "  'URL': 'https://www.bok.or.kr/eng/bbs/B0000308/view.do?nttId=10058439&menuNo=400380&pageIndex=1',\n",
       "  'Detail': ''},\n",
       " {'Policy Summary': 'BOK to provide additional financial support of 5 trillion won to SMEs affected by COVID-19',\n",
       "  'URL': 'https://www.bok.or.kr/eng/bbs/B0000308/view.do?nttId=10058185&menuNo=400380&pageIndex=1',\n",
       "  'Detail': ''},\n",
       " {'Policy Summary': 'BOK to Launch Corporate Bond-Backed Lending Facility',\n",
       "  'URL': 'https://www.bok.or.kr/eng/bbs/B0000308/view.do?nttId=10057757&menuNo=400380&pageIndex=1',\n",
       "  'Detail': ''},\n",
       " {'Policy Summary': 'Bank of Korea Broadens Securities Eligible for Open Market Operations',\n",
       "  'URL': 'https://www.bok.or.kr/eng/bbs/B0000308/view.do?nttId=10057612&menuNo=400380&pageIndex=1',\n",
       "  'Detail': ''},\n",
       " {'Policy Summary': '★ Monetary Policy Decision(Apr 9, 2020)',\n",
       "  'URL': 'https://www.bok.or.kr/eng/bbs/B0000308/view.do?nttId=10057560&menuNo=400380&pageIndex=1',\n",
       "  'Detail': ''},\n",
       " {'Policy Summary': 'Results of competitive US dollar loan facility auctions using the proceeds of swap transaction with the US Federal Reserve',\n",
       "  'URL': 'https://www.bok.or.kr/eng/bbs/B0000308/view.do?nttId=10057419&menuNo=400380&pageIndex=1',\n",
       "  'Detail': ''},\n",
       " {'Policy Summary': \"Bank of Korea to Expand Financial Institutions' Collateral Capacity by 10.1 trillion won\",\n",
       "  'URL': 'https://www.bok.or.kr/eng/bbs/B0000308/view.do?nttId=10057675&menuNo=400380&pageIndex=1',\n",
       "  'Detail': ''},\n",
       " {'Policy Summary': 'Bank of Korea to Provide US dollar Funding using the Proceeds of Swap Transactions with US Federal Reserve',\n",
       "  'URL': 'https://www.bok.or.kr/eng/bbs/B0000308/view.do?nttId=10057320&menuNo=400380&pageIndex=1',\n",
       "  'Detail': ''},\n",
       " {'Policy Summary': 'Bank of Korea Implements Financial Stability Measures Including Adoption of Unlimited Liquidity Support Facility',\n",
       "  'URL': 'https://www.bok.or.kr/eng/bbs/B0000308/view.do?nttId=10057418&menuNo=400380&pageIndex=1',\n",
       "  'Detail': ''},\n",
       " {'Policy Summary': 'Ease of FX Market Stability Rules',\n",
       "  'URL': 'https://www.bok.or.kr/eng/bbs/B0000308/view.do?nttId=10057321&menuNo=400380&pageIndex=1',\n",
       "  'Detail': ''}]"
      ]
     },
     "execution_count": 75,
     "metadata": {},
     "output_type": "execute_result"
    }
   ],
   "source": [
    "# List Comprehension (Policy, Monetary, Detail)\n",
    "result_k=[\n",
    "    {\n",
    "        'Policy Summary': element.text.strip(),\n",
    "        'URL': 'https://www.bok.or.kr/eng/bbs/B0000308'+element.attrs['href'].strip().split('.')[1]+'.'+element.attrs['href'].strip().split('.')[2],\n",
    "        'Detail': ''\n",
    "    }\n",
    "    for element in elements_k \n",
    "]\n",
    "result_k"
   ]
  },
  {
   "cell_type": "code",
   "execution_count": 76,
   "metadata": {},
   "outputs": [
    {
     "data": {
      "text/plain": [
       "[{'Date': '2020.05.28'},\n",
       " {'Date': '2020.05.14'},\n",
       " {'Date': '2020.04.16'},\n",
       " {'Date': '2020.04.10'},\n",
       " {'Date': '2020.04.09'},\n",
       " {'Date': '2020.04.01'},\n",
       " {'Date': '2020.04.01'},\n",
       " {'Date': '2020.03.29'},\n",
       " {'Date': '2020.03.26'},\n",
       " {'Date': '2020.03.26'}]"
      ]
     },
     "execution_count": 76,
     "metadata": {},
     "output_type": "execute_result"
    }
   ],
   "source": [
    "result_k2=[\n",
    "    {\n",
    "        \"Date\": element.text.strip().replace(\"date\",\"\")\n",
    "    }\n",
    "    for element in elements_k2\n",
    "]\n",
    "result_k2"
   ]
  },
  {
   "cell_type": "code",
   "execution_count": 84,
   "metadata": {},
   "outputs": [
    {
     "data": {
      "text/html": [
       "<div>\n",
       "<style scoped>\n",
       "    .dataframe tbody tr th:only-of-type {\n",
       "        vertical-align: middle;\n",
       "    }\n",
       "\n",
       "    .dataframe tbody tr th {\n",
       "        vertical-align: top;\n",
       "    }\n",
       "\n",
       "    .dataframe thead th {\n",
       "        text-align: right;\n",
       "    }\n",
       "</style>\n",
       "<table border=\"1\" class=\"dataframe\">\n",
       "  <thead>\n",
       "    <tr style=\"text-align: right;\">\n",
       "      <th></th>\n",
       "      <th>Policy Summary</th>\n",
       "      <th>URL</th>\n",
       "      <th>Detail</th>\n",
       "    </tr>\n",
       "  </thead>\n",
       "  <tbody>\n",
       "    <tr>\n",
       "      <th>0</th>\n",
       "      <td>★ Monetary Policy Decision(May 28, 2020)</td>\n",
       "      <td>https://www.bok.or.kr/eng/bbs/B0000308/view.do...</td>\n",
       "      <td></td>\n",
       "    </tr>\n",
       "    <tr>\n",
       "      <th>1</th>\n",
       "      <td>BOK to provide additional financial support of...</td>\n",
       "      <td>https://www.bok.or.kr/eng/bbs/B0000308/view.do...</td>\n",
       "      <td></td>\n",
       "    </tr>\n",
       "    <tr>\n",
       "      <th>2</th>\n",
       "      <td>BOK to Launch Corporate Bond-Backed Lending Fa...</td>\n",
       "      <td>https://www.bok.or.kr/eng/bbs/B0000308/view.do...</td>\n",
       "      <td></td>\n",
       "    </tr>\n",
       "    <tr>\n",
       "      <th>3</th>\n",
       "      <td>Bank of Korea Broadens Securities Eligible for...</td>\n",
       "      <td>https://www.bok.or.kr/eng/bbs/B0000308/view.do...</td>\n",
       "      <td></td>\n",
       "    </tr>\n",
       "    <tr>\n",
       "      <th>4</th>\n",
       "      <td>★ Monetary Policy Decision(Apr 9, 2020)</td>\n",
       "      <td>https://www.bok.or.kr/eng/bbs/B0000308/view.do...</td>\n",
       "      <td></td>\n",
       "    </tr>\n",
       "    <tr>\n",
       "      <th>5</th>\n",
       "      <td>Results of competitive US dollar loan facility...</td>\n",
       "      <td>https://www.bok.or.kr/eng/bbs/B0000308/view.do...</td>\n",
       "      <td></td>\n",
       "    </tr>\n",
       "    <tr>\n",
       "      <th>6</th>\n",
       "      <td>Bank of Korea to Expand Financial Institutions...</td>\n",
       "      <td>https://www.bok.or.kr/eng/bbs/B0000308/view.do...</td>\n",
       "      <td></td>\n",
       "    </tr>\n",
       "    <tr>\n",
       "      <th>7</th>\n",
       "      <td>Bank of Korea to Provide US dollar Funding usi...</td>\n",
       "      <td>https://www.bok.or.kr/eng/bbs/B0000308/view.do...</td>\n",
       "      <td></td>\n",
       "    </tr>\n",
       "    <tr>\n",
       "      <th>8</th>\n",
       "      <td>Bank of Korea Implements Financial Stability M...</td>\n",
       "      <td>https://www.bok.or.kr/eng/bbs/B0000308/view.do...</td>\n",
       "      <td></td>\n",
       "    </tr>\n",
       "    <tr>\n",
       "      <th>9</th>\n",
       "      <td>Ease of FX Market Stability Rules</td>\n",
       "      <td>https://www.bok.or.kr/eng/bbs/B0000308/view.do...</td>\n",
       "      <td></td>\n",
       "    </tr>\n",
       "  </tbody>\n",
       "</table>\n",
       "</div>"
      ],
      "text/plain": [
       "                                      Policy Summary  \\\n",
       "0           ★ Monetary Policy Decision(May 28, 2020)   \n",
       "1  BOK to provide additional financial support of...   \n",
       "2  BOK to Launch Corporate Bond-Backed Lending Fa...   \n",
       "3  Bank of Korea Broadens Securities Eligible for...   \n",
       "4            ★ Monetary Policy Decision(Apr 9, 2020)   \n",
       "5  Results of competitive US dollar loan facility...   \n",
       "6  Bank of Korea to Expand Financial Institutions...   \n",
       "7  Bank of Korea to Provide US dollar Funding usi...   \n",
       "8  Bank of Korea Implements Financial Stability M...   \n",
       "9                  Ease of FX Market Stability Rules   \n",
       "\n",
       "                                                 URL Detail  \n",
       "0  https://www.bok.or.kr/eng/bbs/B0000308/view.do...         \n",
       "1  https://www.bok.or.kr/eng/bbs/B0000308/view.do...         \n",
       "2  https://www.bok.or.kr/eng/bbs/B0000308/view.do...         \n",
       "3  https://www.bok.or.kr/eng/bbs/B0000308/view.do...         \n",
       "4  https://www.bok.or.kr/eng/bbs/B0000308/view.do...         \n",
       "5  https://www.bok.or.kr/eng/bbs/B0000308/view.do...         \n",
       "6  https://www.bok.or.kr/eng/bbs/B0000308/view.do...         \n",
       "7  https://www.bok.or.kr/eng/bbs/B0000308/view.do...         \n",
       "8  https://www.bok.or.kr/eng/bbs/B0000308/view.do...         \n",
       "9  https://www.bok.or.kr/eng/bbs/B0000308/view.do...         "
      ]
     },
     "execution_count": 84,
     "metadata": {},
     "output_type": "execute_result"
    }
   ],
   "source": [
    "# DataFrame for each\n",
    "df1_k = pd.DataFrame(result_k)\n",
    "df1_k"
   ]
  },
  {
   "cell_type": "code",
   "execution_count": 86,
   "metadata": {},
   "outputs": [
    {
     "data": {
      "text/html": [
       "<div>\n",
       "<style scoped>\n",
       "    .dataframe tbody tr th:only-of-type {\n",
       "        vertical-align: middle;\n",
       "    }\n",
       "\n",
       "    .dataframe tbody tr th {\n",
       "        vertical-align: top;\n",
       "    }\n",
       "\n",
       "    .dataframe thead th {\n",
       "        text-align: right;\n",
       "    }\n",
       "</style>\n",
       "<table border=\"1\" class=\"dataframe\">\n",
       "  <thead>\n",
       "    <tr style=\"text-align: right;\">\n",
       "      <th></th>\n",
       "      <th>Date</th>\n",
       "    </tr>\n",
       "  </thead>\n",
       "  <tbody>\n",
       "    <tr>\n",
       "      <th>0</th>\n",
       "      <td>2020.05.28</td>\n",
       "    </tr>\n",
       "    <tr>\n",
       "      <th>1</th>\n",
       "      <td>2020.05.14</td>\n",
       "    </tr>\n",
       "    <tr>\n",
       "      <th>2</th>\n",
       "      <td>2020.04.16</td>\n",
       "    </tr>\n",
       "    <tr>\n",
       "      <th>3</th>\n",
       "      <td>2020.04.10</td>\n",
       "    </tr>\n",
       "    <tr>\n",
       "      <th>4</th>\n",
       "      <td>2020.04.09</td>\n",
       "    </tr>\n",
       "    <tr>\n",
       "      <th>5</th>\n",
       "      <td>2020.04.01</td>\n",
       "    </tr>\n",
       "    <tr>\n",
       "      <th>6</th>\n",
       "      <td>2020.04.01</td>\n",
       "    </tr>\n",
       "    <tr>\n",
       "      <th>7</th>\n",
       "      <td>2020.03.29</td>\n",
       "    </tr>\n",
       "    <tr>\n",
       "      <th>8</th>\n",
       "      <td>2020.03.26</td>\n",
       "    </tr>\n",
       "    <tr>\n",
       "      <th>9</th>\n",
       "      <td>2020.03.26</td>\n",
       "    </tr>\n",
       "  </tbody>\n",
       "</table>\n",
       "</div>"
      ],
      "text/plain": [
       "         Date\n",
       "0  2020.05.28\n",
       "1  2020.05.14\n",
       "2  2020.04.16\n",
       "3  2020.04.10\n",
       "4  2020.04.09\n",
       "5  2020.04.01\n",
       "6  2020.04.01\n",
       "7  2020.03.29\n",
       "8  2020.03.26\n",
       "9  2020.03.26"
      ]
     },
     "execution_count": 86,
     "metadata": {},
     "output_type": "execute_result"
    }
   ],
   "source": [
    "df2_k = pd.DataFrame(result_k2)\n",
    "df2_k"
   ]
  },
  {
   "cell_type": "code",
   "execution_count": 90,
   "metadata": {},
   "outputs": [],
   "source": [
    "# Compile df1 & df2\n",
    "## df1_k.insert(0, \"Date\", df2_k)"
   ]
  },
  {
   "cell_type": "code",
   "execution_count": 91,
   "metadata": {},
   "outputs": [
    {
     "data": {
      "text/html": [
       "<div>\n",
       "<style scoped>\n",
       "    .dataframe tbody tr th:only-of-type {\n",
       "        vertical-align: middle;\n",
       "    }\n",
       "\n",
       "    .dataframe tbody tr th {\n",
       "        vertical-align: top;\n",
       "    }\n",
       "\n",
       "    .dataframe thead th {\n",
       "        text-align: right;\n",
       "    }\n",
       "</style>\n",
       "<table border=\"1\" class=\"dataframe\">\n",
       "  <thead>\n",
       "    <tr style=\"text-align: right;\">\n",
       "      <th></th>\n",
       "      <th>Date</th>\n",
       "      <th>Policy Summary</th>\n",
       "      <th>URL</th>\n",
       "      <th>Detail</th>\n",
       "    </tr>\n",
       "  </thead>\n",
       "  <tbody>\n",
       "    <tr>\n",
       "      <th>0</th>\n",
       "      <td>2020.05.28</td>\n",
       "      <td>★ Monetary Policy Decision(May 28, 2020)</td>\n",
       "      <td>https://www.bok.or.kr/eng/bbs/B0000308/view.do...</td>\n",
       "      <td></td>\n",
       "    </tr>\n",
       "    <tr>\n",
       "      <th>1</th>\n",
       "      <td>2020.05.14</td>\n",
       "      <td>BOK to provide additional financial support of...</td>\n",
       "      <td>https://www.bok.or.kr/eng/bbs/B0000308/view.do...</td>\n",
       "      <td></td>\n",
       "    </tr>\n",
       "    <tr>\n",
       "      <th>2</th>\n",
       "      <td>2020.04.16</td>\n",
       "      <td>BOK to Launch Corporate Bond-Backed Lending Fa...</td>\n",
       "      <td>https://www.bok.or.kr/eng/bbs/B0000308/view.do...</td>\n",
       "      <td></td>\n",
       "    </tr>\n",
       "    <tr>\n",
       "      <th>3</th>\n",
       "      <td>2020.04.10</td>\n",
       "      <td>Bank of Korea Broadens Securities Eligible for...</td>\n",
       "      <td>https://www.bok.or.kr/eng/bbs/B0000308/view.do...</td>\n",
       "      <td></td>\n",
       "    </tr>\n",
       "    <tr>\n",
       "      <th>4</th>\n",
       "      <td>2020.04.09</td>\n",
       "      <td>★ Monetary Policy Decision(Apr 9, 2020)</td>\n",
       "      <td>https://www.bok.or.kr/eng/bbs/B0000308/view.do...</td>\n",
       "      <td></td>\n",
       "    </tr>\n",
       "    <tr>\n",
       "      <th>5</th>\n",
       "      <td>2020.04.01</td>\n",
       "      <td>Results of competitive US dollar loan facility...</td>\n",
       "      <td>https://www.bok.or.kr/eng/bbs/B0000308/view.do...</td>\n",
       "      <td></td>\n",
       "    </tr>\n",
       "    <tr>\n",
       "      <th>6</th>\n",
       "      <td>2020.04.01</td>\n",
       "      <td>Bank of Korea to Expand Financial Institutions...</td>\n",
       "      <td>https://www.bok.or.kr/eng/bbs/B0000308/view.do...</td>\n",
       "      <td></td>\n",
       "    </tr>\n",
       "    <tr>\n",
       "      <th>7</th>\n",
       "      <td>2020.03.29</td>\n",
       "      <td>Bank of Korea to Provide US dollar Funding usi...</td>\n",
       "      <td>https://www.bok.or.kr/eng/bbs/B0000308/view.do...</td>\n",
       "      <td></td>\n",
       "    </tr>\n",
       "    <tr>\n",
       "      <th>8</th>\n",
       "      <td>2020.03.26</td>\n",
       "      <td>Bank of Korea Implements Financial Stability M...</td>\n",
       "      <td>https://www.bok.or.kr/eng/bbs/B0000308/view.do...</td>\n",
       "      <td></td>\n",
       "    </tr>\n",
       "    <tr>\n",
       "      <th>9</th>\n",
       "      <td>2020.03.26</td>\n",
       "      <td>Ease of FX Market Stability Rules</td>\n",
       "      <td>https://www.bok.or.kr/eng/bbs/B0000308/view.do...</td>\n",
       "      <td></td>\n",
       "    </tr>\n",
       "  </tbody>\n",
       "</table>\n",
       "</div>"
      ],
      "text/plain": [
       "         Date                                     Policy Summary  \\\n",
       "0  2020.05.28           ★ Monetary Policy Decision(May 28, 2020)   \n",
       "1  2020.05.14  BOK to provide additional financial support of...   \n",
       "2  2020.04.16  BOK to Launch Corporate Bond-Backed Lending Fa...   \n",
       "3  2020.04.10  Bank of Korea Broadens Securities Eligible for...   \n",
       "4  2020.04.09            ★ Monetary Policy Decision(Apr 9, 2020)   \n",
       "5  2020.04.01  Results of competitive US dollar loan facility...   \n",
       "6  2020.04.01  Bank of Korea to Expand Financial Institutions...   \n",
       "7  2020.03.29  Bank of Korea to Provide US dollar Funding usi...   \n",
       "8  2020.03.26  Bank of Korea Implements Financial Stability M...   \n",
       "9  2020.03.26                  Ease of FX Market Stability Rules   \n",
       "\n",
       "                                                 URL Detail  \n",
       "0  https://www.bok.or.kr/eng/bbs/B0000308/view.do...         \n",
       "1  https://www.bok.or.kr/eng/bbs/B0000308/view.do...         \n",
       "2  https://www.bok.or.kr/eng/bbs/B0000308/view.do...         \n",
       "3  https://www.bok.or.kr/eng/bbs/B0000308/view.do...         \n",
       "4  https://www.bok.or.kr/eng/bbs/B0000308/view.do...         \n",
       "5  https://www.bok.or.kr/eng/bbs/B0000308/view.do...         \n",
       "6  https://www.bok.or.kr/eng/bbs/B0000308/view.do...         \n",
       "7  https://www.bok.or.kr/eng/bbs/B0000308/view.do...         \n",
       "8  https://www.bok.or.kr/eng/bbs/B0000308/view.do...         \n",
       "9  https://www.bok.or.kr/eng/bbs/B0000308/view.do...         "
      ]
     },
     "execution_count": 91,
     "metadata": {},
     "output_type": "execute_result"
    }
   ],
   "source": [
    "df1_k"
   ]
  },
  {
   "cell_type": "code",
   "execution_count": 93,
   "metadata": {},
   "outputs": [
    {
     "data": {
      "text/plain": [
       "'/Users/jaewanpark/Desktop/PAE'"
      ]
     },
     "execution_count": 93,
     "metadata": {},
     "output_type": "execute_result"
    }
   ],
   "source": [
    "os.getcwd()"
   ]
  },
  {
   "cell_type": "code",
   "execution_count": 97,
   "metadata": {},
   "outputs": [
    {
     "data": {
      "text/plain": [
       "'/Users/jaewanpark/Desktop/PAE/PAE_Tracker20200820162142.xlsx'"
      ]
     },
     "execution_count": 97,
     "metadata": {},
     "output_type": "execute_result"
    }
   ],
   "source": [
    "# filename corresponding to time\n",
    "now=time.strftime('%Y%m%d%H%M')\n",
    "filepath = os.path.join( os.getcwd(), f'Tracker_KOREA{now}page{page}.xlsx' )\n",
    "df1_k.to_excel(filepath, sheet_name='Korea_MP', index=False)"
   ]
  },
  {
   "cell_type": "code",
   "execution_count": 98,
   "metadata": {},
   "outputs": [],
   "source": [
    "# save as .xlsx\n",
    "df1_k.to_excel(filepath, sheet_name='Korea_MP', index=False)"
   ]
  }
 ],
 "metadata": {
  "kernelspec": {
   "display_name": "Python 3",
   "language": "python",
   "name": "python3"
  },
  "language_info": {
   "codemirror_mode": {
    "name": "ipython",
    "version": 3
   },
   "file_extension": ".py",
   "mimetype": "text/x-python",
   "name": "python",
   "nbconvert_exporter": "python",
   "pygments_lexer": "ipython3",
   "version": "3.7.6"
  }
 },
 "nbformat": 4,
 "nbformat_minor": 4
}
